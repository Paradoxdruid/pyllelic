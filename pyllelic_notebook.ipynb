{
 "cells": [
  {
   "cell_type": "markdown",
   "metadata": {},
   "source": [
    "# Example Pyllelic Use-Case Notebook\n",
    "\n",
    "<img src=\"https://github.com/Paradoxdruid/pyllelic/blob/master/assets/pyllelic_logo.png?raw=true\" alt=\"pyllelic logo\" width=\"100\"/>"
   ]
  },
  {
   "cell_type": "markdown",
   "metadata": {},
   "source": [
    "## Background"
   ]
  },
  {
   "cell_type": "markdown",
   "metadata": {},
   "source": [
    "This notebook illustrates the import and use of `pyllelic` in a jupyter environment.\n",
    "\n",
    "Source code: <https://github.com/Paradoxdruid/pyllelic>\n",
    "\n",
    "Documentation: <https://paradoxdruid.github.io/pyllelic/>"
   ]
  },
  {
   "cell_type": "markdown",
   "metadata": {},
   "source": [
    "## Pre-setup / File preparation"
   ]
  },
  {
   "cell_type": "markdown",
   "metadata": {},
   "source": [
    "### Obtaining fastq data"
   ]
  },
  {
   "cell_type": "markdown",
   "metadata": {},
   "source": [
    "We can download rrbs (reduced representation bisulfite sequencing) data from the Encode project:\n",
    "<http://hgdownload.cse.ucsc.edu/goldenPath/hg19/encodeDCC/wgEncodeHaibMethylRrbs/>"
   ]
  },
  {
   "cell_type": "markdown",
   "metadata": {},
   "source": [
    "Those files are in unaligned fastq format.  We will need to align these to a reference human genome."
   ]
  },
  {
   "cell_type": "markdown",
   "metadata": {},
   "source": [
    "### Retrieve promoter sequence"
   ]
  },
  {
   "cell_type": "markdown",
   "metadata": {},
   "source": [
    "We will download the genomic region of interest from the UCSC Genome browser and save it in a text file:"
   ]
  },
  {
   "cell_type": "markdown",
   "metadata": {},
   "source": [
    "```python\n",
    "from pyllelic import process\n",
    "# Retrieve promoter genomic sequence\n",
    "process.retrieve_promoter_seq(\"{prom_filename}.txt\", chrom: \"chr5\", start: 1293200, end: 1296000)\n",
    "```"
   ]
  },
  {
   "cell_type": "markdown",
   "metadata": {},
   "source": [
    "### Preparing bisultife-converted genome"
   ]
  },
  {
   "cell_type": "markdown",
   "metadata": {},
   "source": [
    "To prepare the genome and align reads, we'll use [bismark](https://github.com/FelixKrueger/Bismark), bowtie2, and samtools (through its pysam wrapper).\n",
    "\n",
    "First, we need to download a genomic index sequence: <http://hgdownload.soe.ucsc.edu/goldenPath/hg19>"
   ]
  },
  {
   "cell_type": "markdown",
   "metadata": {
    "ExecuteTime": {
     "end_time": "2021-02-11T20:02:16.211993Z",
     "start_time": "2021-02-11T20:02:16.205552Z"
    }
   },
   "source": [
    "```python\n",
    "# Processing imports\n",
    "from pathlib import Path\n",
    "\n",
    "# Set up file paths\n",
    "genome = Path(\"/{your_directory}/{genome_file_directory}\")\n",
    "fastq = Path(\"/{your_directory}/{your_fastq_file.fastq.gz}\")\n",
    "```"
   ]
  },
  {
   "cell_type": "markdown",
   "metadata": {},
   "source": [
    "**WARNING:** The next command is processor, RAM, and time intensive, and only needs to be run once!"
   ]
  },
  {
   "cell_type": "markdown",
   "metadata": {},
   "source": [
    "```python\n",
    "# Prepare genome via bismark\n",
    "process.prepare_genome(genome) # can optionally give path to bowtie2 if not in PATH\n",
    "```"
   ]
  },
  {
   "cell_type": "markdown",
   "metadata": {},
   "source": [
    "### Aligning reads"
   ]
  },
  {
   "cell_type": "markdown",
   "metadata": {},
   "source": [
    "**WARNING:** The next command is processor, RAM, and time intensive, and only needs to be run once!"
   ]
  },
  {
   "cell_type": "markdown",
   "metadata": {
    "ExecuteTime": {
     "end_time": "2021-02-11T20:00:15.551793Z",
     "start_time": "2021-02-11T20:00:15.549988Z"
    }
   },
   "source": [
    "```python\n",
    "# Convert fastq to bismark-aligned bam\n",
    "from pyllelic import process\n",
    "process.bismark(genome, fastq)\n",
    "```"
   ]
  },
  {
   "cell_type": "markdown",
   "metadata": {},
   "source": [
    "Notes:\n",
    "\n",
    "* We recommend renaming your `.bam` file to encode cell-line and tissue.  Our convention is: `fh_CELLLINE_TISSUE.REGION.bam`\n",
    "\n",
    "Next, we need to sort and index the bam file using samtools functions."
   ]
  },
  {
   "cell_type": "markdown",
   "metadata": {},
   "source": [
    "```python\n",
    "# Sort the bamfile\n",
    "bamfile = Path(\"/{your_directory}/{bam_filename}.bam\")\n",
    "process.pysam_sort(bamfile)\n",
    "```"
   ]
  },
  {
   "cell_type": "markdown",
   "metadata": {},
   "source": [
    "```python\n",
    "# Create an index of the sorted bamfile\n",
    "sorted_bam = Path(\"/{your_directory}/{bam_filename}_sorted.bam\")\n",
    "process.pysam_index(sorted_bam)\n",
    "```"
   ]
  },
  {
   "cell_type": "markdown",
   "metadata": {},
   "source": [
    "### Organize directory contents"
   ]
  },
  {
   "cell_type": "markdown",
   "metadata": {},
   "source": [
    "* Place sorted bam files and index files (again, rename to capture cell-line and tissue info) in the `test` folder for analysis by pyllelic.\n",
    "* Place the promoter sequence in your main directory."
   ]
  },
  {
   "cell_type": "markdown",
   "metadata": {},
   "source": [
    "## Set-up"
   ]
  },
  {
   "cell_type": "code",
   "execution_count": null,
   "metadata": {
    "ExecuteTime": {
     "end_time": "2021-11-26T23:32:56.003028Z",
     "start_time": "2021-11-26T23:32:55.264994Z"
    }
   },
   "outputs": [],
   "source": [
    "from pyllelic import pyllelic"
   ]
  },
  {
   "cell_type": "markdown",
   "metadata": {},
   "source": [
    "1. Set up your disk location:  ```base_path``` should be the directory we'll do our work in\n",
    "2. Make a sub-directory under ```base_path``` with a folder named ```test``` and put the ```.bam``` and ```.bai``` files in ```test```"
   ]
  },
  {
   "cell_type": "code",
   "execution_count": null,
   "metadata": {
    "ExecuteTime": {
     "end_time": "2021-11-26T23:32:56.802500Z",
     "start_time": "2021-11-26T23:32:56.799648Z"
    }
   },
   "outputs": [],
   "source": [
    "config = pyllelic.configure(\n",
    "    base_path=\"/home/andrew/allellic/\",  # Windows WSL set-up\n",
    "    #     base_path=\"/Users/abonham/documents/test_allelic/\",  # OSX setup\n",
    "    prom_file=\"TERT-promoter-genomic-sequence.txt\",\n",
    "    prom_start=\"1293200\",\n",
    "    prom_end=\"1296000\",\n",
    "    chrom=\"5\",\n",
    "    offset=1298163,\n",
    ")"
   ]
  },
  {
   "cell_type": "markdown",
   "metadata": {},
   "source": [
    "## Main Parsing Functions\n",
    "\n",
    "### Find files to analyze"
   ]
  },
  {
   "cell_type": "code",
   "execution_count": null,
   "metadata": {
    "ExecuteTime": {
     "end_time": "2021-11-26T19:53:53.605627Z",
     "start_time": "2021-11-26T19:53:53.596979Z"
    }
   },
   "outputs": [],
   "source": [
    "files_set = pyllelic.make_list_of_bam_files(config)"
   ]
  },
  {
   "cell_type": "code",
   "execution_count": null,
   "metadata": {
    "ExecuteTime": {
     "end_time": "2021-11-26T19:53:55.544362Z",
     "start_time": "2021-11-26T19:53:55.542243Z"
    }
   },
   "outputs": [],
   "source": [
    "# files_set # uncomment for debugging"
   ]
  },
  {
   "cell_type": "markdown",
   "metadata": {},
   "source": [
    "### Perform full methylation analysis and generate data object\n",
    "\n",
    "**Warning**: This step is processor and time intensive and will perform all processing and analysis of the bam file data."
   ]
  },
  {
   "cell_type": "code",
   "execution_count": null,
   "metadata": {
    "ExecuteTime": {
     "end_time": "2021-11-26T19:54:58.688204Z",
     "start_time": "2021-11-26T19:54:52.613625Z"
    }
   },
   "outputs": [],
   "source": [
    "data = pyllelic.GenomicPositionData(config=config, files_set=files_set)"
   ]
  },
  {
   "cell_type": "markdown",
   "metadata": {},
   "source": [
    "### Check main data outcomes"
   ]
  },
  {
   "cell_type": "code",
   "execution_count": null,
   "metadata": {
    "ExecuteTime": {
     "end_time": "2021-11-26T19:55:00.741172Z",
     "start_time": "2021-11-26T19:55:00.734647Z"
    }
   },
   "outputs": [],
   "source": [
    "\", \".join(data.positions)"
   ]
  },
  {
   "cell_type": "code",
   "execution_count": null,
   "metadata": {
    "ExecuteTime": {
     "end_time": "2021-11-26T19:55:01.789200Z",
     "start_time": "2021-11-26T19:55:01.774152Z"
    }
   },
   "outputs": [],
   "source": [
    "data.means.head()"
   ]
  },
  {
   "cell_type": "code",
   "execution_count": null,
   "metadata": {
    "ExecuteTime": {
     "end_time": "2021-11-25T21:24:20.909527Z",
     "start_time": "2021-11-25T21:24:20.895572Z"
    }
   },
   "outputs": [],
   "source": [
    "data.modes.head()"
   ]
  },
  {
   "cell_type": "code",
   "execution_count": null,
   "metadata": {
    "ExecuteTime": {
     "end_time": "2021-11-25T21:24:21.269848Z",
     "start_time": "2021-11-25T21:24:21.255800Z"
    }
   },
   "outputs": [],
   "source": [
    "data.diffs.head()"
   ]
  },
  {
   "cell_type": "code",
   "execution_count": null,
   "metadata": {
    "ExecuteTime": {
     "end_time": "2021-11-25T21:24:21.538022Z",
     "start_time": "2021-11-25T21:24:21.527887Z"
    }
   },
   "outputs": [],
   "source": [
    "data.diffs.loc[:,data.diffs.any()]"
   ]
  },
  {
   "cell_type": "code",
   "execution_count": null,
   "metadata": {
    "ExecuteTime": {
     "end_time": "2021-11-26T19:55:19.324133Z",
     "start_time": "2021-11-26T19:55:19.310947Z"
    },
    "scrolled": true
   },
   "outputs": [],
   "source": [
    "data.quma_results[data.means.index[0]].values.head()"
   ]
  },
  {
   "cell_type": "code",
   "execution_count": null,
   "metadata": {
    "ExecuteTime": {
     "end_time": "2021-11-26T19:56:22.721957Z",
     "start_time": "2021-11-26T19:56:22.718642Z"
    }
   },
   "outputs": [],
   "source": [
    "data.individual_data.loc[data.means.index[0], data.means.columns[0]]"
   ]
  },
  {
   "cell_type": "markdown",
   "metadata": {},
   "source": [
    "## Write Output\n",
    "\n",
    "### Save entire object as pickle"
   ]
  },
  {
   "cell_type": "code",
   "execution_count": null,
   "metadata": {
    "ExecuteTime": {
     "end_time": "2021-11-22T22:27:42.087737Z",
     "start_time": "2021-11-22T22:27:41.332820Z"
    }
   },
   "outputs": [],
   "source": [
    "# data.save_pickle(\"test_data.pickle\")"
   ]
  },
  {
   "cell_type": "markdown",
   "metadata": {},
   "source": [
    "### Save Quma Results to excel"
   ]
  },
  {
   "cell_type": "code",
   "execution_count": null,
   "metadata": {
    "ExecuteTime": {
     "end_time": "2021-11-22T22:28:04.391032Z",
     "start_time": "2021-11-22T22:28:04.389057Z"
    }
   },
   "outputs": [],
   "source": [
    "# data.save(\"output.xlsx\")"
   ]
  },
  {
   "cell_type": "markdown",
   "metadata": {},
   "source": [
    "### Save analysis files (means, modes, diffs) to excel"
   ]
  },
  {
   "cell_type": "code",
   "execution_count": null,
   "metadata": {
    "ExecuteTime": {
     "end_time": "2021-11-22T22:28:16.846945Z",
     "start_time": "2021-11-22T22:28:16.844850Z"
    }
   },
   "outputs": [],
   "source": [
    "# data.write_means_modes_diffs(\"Full_\") # Sets the filename stub"
   ]
  },
  {
   "cell_type": "markdown",
   "metadata": {},
   "source": [
    "### Reopen saved object"
   ]
  },
  {
   "cell_type": "code",
   "execution_count": null,
   "metadata": {
    "ExecuteTime": {
     "end_time": "2021-11-26T23:33:10.348256Z",
     "start_time": "2021-11-26T23:33:07.441376Z"
    }
   },
   "outputs": [],
   "source": [
    "# data = pyllelic.GenomicPositionData.from_pickle(\"test_data2.pickle\")"
   ]
  },
  {
   "cell_type": "markdown",
   "metadata": {},
   "source": [
    "## Data Analysis\n",
    "\n",
    "### View raw data of methylation percentage per read"
   ]
  },
  {
   "cell_type": "code",
   "execution_count": null,
   "metadata": {
    "ExecuteTime": {
     "end_time": "2021-11-22T22:28:25.014860Z",
     "start_time": "2021-11-22T22:28:25.012468Z"
    }
   },
   "outputs": [],
   "source": [
    "df = data.individual_data"
   ]
  },
  {
   "cell_type": "markdown",
   "metadata": {},
   "source": [
    "### Statistical Tests for Normality"
   ]
  },
  {
   "cell_type": "code",
   "execution_count": null,
   "metadata": {
    "ExecuteTime": {
     "end_time": "2021-11-25T15:30:56.827423Z",
     "start_time": "2021-11-25T15:30:56.805431Z"
    }
   },
   "outputs": [],
   "source": [
    "summ = data.summarize_allelic_data()"
   ]
  },
  {
   "cell_type": "code",
   "execution_count": null,
   "metadata": {
    "ExecuteTime": {
     "end_time": "2021-11-25T15:30:57.563771Z",
     "start_time": "2021-11-25T15:30:57.556554Z"
    }
   },
   "outputs": [],
   "source": [
    "summ.head()"
   ]
  },
  {
   "cell_type": "code",
   "execution_count": null,
   "metadata": {
    "ExecuteTime": {
     "end_time": "2021-11-25T15:30:59.768656Z",
     "start_time": "2021-11-25T15:30:59.764533Z"
    }
   },
   "outputs": [],
   "source": [
    "ad_big_diffs = summ.pivot(index=\"position\", columns=\"cellLine\", values=\"ad_stat\")"
   ]
  },
  {
   "cell_type": "code",
   "execution_count": null,
   "metadata": {
    "ExecuteTime": {
     "end_time": "2021-11-25T15:31:03.081758Z",
     "start_time": "2021-11-25T15:31:03.077631Z"
    }
   },
   "outputs": [],
   "source": [
    "ad_big_diffs = ad_big_diffs.dropna(axis=1, how=\"all\").count(axis=1).to_frame()"
   ]
  },
  {
   "cell_type": "code",
   "execution_count": null,
   "metadata": {
    "ExecuteTime": {
     "end_time": "2021-11-25T15:31:00.160994Z",
     "start_time": "2021-11-25T15:31:00.156443Z"
    }
   },
   "outputs": [],
   "source": [
    "ad_big_diffs.head()"
   ]
  },
  {
   "cell_type": "markdown",
   "metadata": {},
   "source": [
    "### Raw quma results"
   ]
  },
  {
   "cell_type": "code",
   "execution_count": null,
   "metadata": {
    "ExecuteTime": {
     "end_time": "2021-11-22T19:57:38.762890Z",
     "start_time": "2021-11-22T19:57:38.748566Z"
    }
   },
   "outputs": [],
   "source": [
    "data.quma_results[data.means.index[0]].values.head()"
   ]
  },
  {
   "cell_type": "code",
   "execution_count": null,
   "metadata": {
    "ExecuteTime": {
     "end_time": "2021-11-22T19:57:45.307013Z",
     "start_time": "2021-11-22T19:57:45.284688Z"
    }
   },
   "outputs": [],
   "source": [
    "data.individual_data.head()"
   ]
  },
  {
   "cell_type": "markdown",
   "metadata": {},
   "source": [
    "## Visualizing Data"
   ]
  },
  {
   "cell_type": "markdown",
   "metadata": {},
   "source": [
    "### Histograms of reads at a cell line and genomic position"
   ]
  },
  {
   "cell_type": "code",
   "execution_count": null,
   "metadata": {
    "ExecuteTime": {
     "end_time": "2021-11-25T15:30:46.102998Z",
     "start_time": "2021-11-25T15:30:46.075187Z"
    },
    "scrolled": false
   },
   "outputs": [],
   "source": [
    "CELL = data.means.index[1]\n",
    "POS = data.means.columns[5]\n",
    "data.histogram(CELL, POS)"
   ]
  },
  {
   "cell_type": "markdown",
   "metadata": {},
   "source": [
    "### Heatmap of mean methylation values"
   ]
  },
  {
   "cell_type": "code",
   "execution_count": null,
   "metadata": {},
   "outputs": [],
   "source": [
    "data.heatmap(min_values=1, width=600, height=800, data_type=\"means\")"
   ]
  },
  {
   "cell_type": "markdown",
   "metadata": {},
   "source": [
    "### Bar chart of significant methylation differences"
   ]
  },
  {
   "cell_type": "code",
   "execution_count": null,
   "metadata": {},
   "outputs": [],
   "source": [
    "data.sig_methylation_differences()"
   ]
  },
  {
   "cell_type": "markdown",
   "metadata": {},
   "source": [
    "### Find values with a methylation difference above a threshold"
   ]
  },
  {
   "cell_type": "code",
   "execution_count": null,
   "metadata": {
    "ExecuteTime": {
     "end_time": "2021-11-22T22:28:38.241959Z",
     "start_time": "2021-11-22T22:28:38.156330Z"
    }
   },
   "outputs": [],
   "source": [
    "import plotly.express as px"
   ]
  },
  {
   "cell_type": "code",
   "execution_count": null,
   "metadata": {
    "ExecuteTime": {
     "end_time": "2021-11-22T22:28:31.174786Z",
     "start_time": "2021-11-22T22:28:31.172674Z"
    }
   },
   "outputs": [],
   "source": [
    "import pandas as pd"
   ]
  },
  {
   "cell_type": "code",
   "execution_count": null,
   "metadata": {
    "ExecuteTime": {
     "end_time": "2021-11-22T22:28:31.662512Z",
     "start_time": "2021-11-22T22:28:31.660327Z"
    }
   },
   "outputs": [],
   "source": [
    "DIFF_THRESHOLD = 0.001"
   ]
  },
  {
   "cell_type": "code",
   "execution_count": null,
   "metadata": {
    "ExecuteTime": {
     "end_time": "2021-11-22T22:28:32.105470Z",
     "start_time": "2021-11-22T22:28:32.092509Z"
    }
   },
   "outputs": [],
   "source": [
    "large_diffs = data.diffs[(data.diffs >= DIFF_THRESHOLD).any(1)].dropna(\n",
    "    how=\"all\", axis=1\n",
    ")"
   ]
  },
  {
   "cell_type": "code",
   "execution_count": null,
   "metadata": {
    "ExecuteTime": {
     "end_time": "2021-11-22T22:28:32.489922Z",
     "start_time": "2021-11-22T22:28:32.476464Z"
    }
   },
   "outputs": [],
   "source": [
    "large_diffs.head()"
   ]
  },
  {
   "cell_type": "code",
   "execution_count": null,
   "metadata": {
    "ExecuteTime": {
     "end_time": "2021-11-22T22:28:33.793425Z",
     "start_time": "2021-11-22T22:28:33.620555Z"
    }
   },
   "outputs": [],
   "source": [
    "interesting = {}\n",
    "for index, row in large_diffs.iterrows():\n",
    "    if row.loc[(row != 0)].dropna().any():\n",
    "        interesting[index] = row.loc[(row != 0)].dropna()"
   ]
  },
  {
   "cell_type": "code",
   "execution_count": null,
   "metadata": {
    "ExecuteTime": {
     "end_time": "2021-11-22T22:28:34.326786Z",
     "start_time": "2021-11-22T22:28:34.300653Z"
    }
   },
   "outputs": [],
   "source": [
    "big_diffs = pd.DataFrame.from_dict(interesting)"
   ]
  },
  {
   "cell_type": "code",
   "execution_count": null,
   "metadata": {
    "ExecuteTime": {
     "end_time": "2021-11-22T22:28:34.754157Z",
     "start_time": "2021-11-22T22:28:34.740621Z"
    }
   },
   "outputs": [],
   "source": [
    "big_diffs.head()"
   ]
  },
  {
   "cell_type": "code",
   "execution_count": null,
   "metadata": {
    "ExecuteTime": {
     "end_time": "2021-11-22T22:28:35.313861Z",
     "start_time": "2021-11-22T22:28:35.308378Z"
    }
   },
   "outputs": [],
   "source": [
    "big_diffs_counts = big_diffs.dropna(axis=1, how=\"all\").count(axis=1).to_frame()"
   ]
  },
  {
   "cell_type": "code",
   "execution_count": null,
   "metadata": {
    "ExecuteTime": {
     "end_time": "2021-11-22T22:29:03.393701Z",
     "start_time": "2021-11-22T22:29:03.348776Z"
    }
   },
   "outputs": [],
   "source": [
    "fig = px.bar(big_diffs_counts, template=\"seaborn\")\n",
    "fig.update_layout(xaxis_type=\"linear\", showlegend=False, barmode=\"stack\")\n",
    "fig.update_xaxes(\n",
    "    tickformat=\"r\", tickangle=45, nticks=40, title=\"Position\", range=[1292981, 1295979]\n",
    ")\n",
    "fig.update_yaxes(title=\"# of large differences\")\n",
    "fig.update_traces(width=50)\n",
    "fig.show()"
   ]
  },
  {
   "cell_type": "markdown",
   "metadata": {},
   "source": [
    "### Plotting read methylation distributions"
   ]
  },
  {
   "cell_type": "code",
   "execution_count": null,
   "metadata": {
    "ExecuteTime": {
     "end_time": "2021-11-22T22:29:20.777503Z",
     "start_time": "2021-11-22T22:29:20.764651Z"
    }
   },
   "outputs": [],
   "source": [
    "df = data.individual_data.copy()"
   ]
  },
  {
   "cell_type": "code",
   "execution_count": null,
   "metadata": {
    "ExecuteTime": {
     "end_time": "2021-11-22T22:29:21.295726Z",
     "start_time": "2021-11-22T22:29:21.276607Z"
    }
   },
   "outputs": [],
   "source": [
    "df.head()"
   ]
  },
  {
   "cell_type": "code",
   "execution_count": null,
   "metadata": {
    "ExecuteTime": {
     "end_time": "2021-11-22T22:29:21.863172Z",
     "start_time": "2021-11-22T22:29:21.860523Z"
    }
   },
   "outputs": [],
   "source": [
    "def to_1D(series):\n",
    "    \"\"\"From https://towardsdatascience.com/dealing-with-list-values-in-pandas-dataframes-a177e534f173\"\"\"\n",
    "    if isinstance(series, pd.Series):\n",
    "        series = series.dropna()\n",
    "        return pd.Series([x for _list in series for x in _list])"
   ]
  },
  {
   "cell_type": "code",
   "execution_count": null,
   "metadata": {
    "ExecuteTime": {
     "end_time": "2021-11-22T22:29:22.527219Z",
     "start_time": "2021-11-22T22:29:22.524779Z"
    }
   },
   "outputs": [],
   "source": [
    "POS = data.means.columns[5]"
   ]
  },
  {
   "cell_type": "code",
   "execution_count": null,
   "metadata": {
    "ExecuteTime": {
     "end_time": "2021-11-22T22:29:23.130118Z",
     "start_time": "2021-11-22T22:29:23.124657Z"
    }
   },
   "outputs": [],
   "source": [
    "to_1D(df.loc[:,POS]).value_counts()"
   ]
  },
  {
   "cell_type": "code",
   "execution_count": null,
   "metadata": {
    "ExecuteTime": {
     "end_time": "2021-11-22T22:29:23.656900Z",
     "start_time": "2021-11-22T22:29:23.652717Z"
    }
   },
   "outputs": [],
   "source": [
    "to_1D(df.loc[:,POS])"
   ]
  },
  {
   "cell_type": "code",
   "execution_count": null,
   "metadata": {
    "ExecuteTime": {
     "end_time": "2021-11-22T22:29:24.161294Z",
     "start_time": "2021-11-22T22:29:24.156678Z"
    },
    "scrolled": true
   },
   "outputs": [],
   "source": [
    "to_1D(df.loc[:,POS]).mode()"
   ]
  },
  {
   "cell_type": "markdown",
   "metadata": {},
   "source": [
    "#### Distribution at one cell line, position"
   ]
  },
  {
   "cell_type": "code",
   "execution_count": null,
   "metadata": {
    "ExecuteTime": {
     "end_time": "2021-11-22T22:29:25.423606Z",
     "start_time": "2021-11-22T22:29:25.380219Z"
    },
    "scrolled": false
   },
   "outputs": [],
   "source": [
    "px.bar(to_1D(df.loc[:,POS]).value_counts(normalize=True))"
   ]
  },
  {
   "cell_type": "markdown",
   "metadata": {},
   "source": [
    "#### Distribution across a cell line"
   ]
  },
  {
   "cell_type": "code",
   "execution_count": null,
   "metadata": {
    "ExecuteTime": {
     "end_time": "2021-11-22T22:29:29.182452Z",
     "start_time": "2021-11-22T22:29:29.180269Z"
    }
   },
   "outputs": [],
   "source": [
    "CELL = data.means.index[1]"
   ]
  },
  {
   "cell_type": "code",
   "execution_count": null,
   "metadata": {
    "ExecuteTime": {
     "end_time": "2021-11-22T22:29:29.726882Z",
     "start_time": "2021-11-22T22:29:29.724508Z"
    }
   },
   "outputs": [],
   "source": [
    "df2 = df.loc[CELL]"
   ]
  },
  {
   "cell_type": "code",
   "execution_count": null,
   "metadata": {
    "ExecuteTime": {
     "end_time": "2021-11-22T22:29:30.048269Z",
     "start_time": "2021-11-22T22:29:30.044398Z"
    }
   },
   "outputs": [],
   "source": [
    "df2.head()"
   ]
  },
  {
   "cell_type": "code",
   "execution_count": null,
   "metadata": {
    "ExecuteTime": {
     "end_time": "2021-11-22T22:29:30.609104Z",
     "start_time": "2021-11-22T22:29:30.604378Z"
    }
   },
   "outputs": [],
   "source": [
    "df2.explode().value_counts()"
   ]
  },
  {
   "cell_type": "code",
   "execution_count": null,
   "metadata": {
    "ExecuteTime": {
     "end_time": "2021-11-22T22:29:31.274043Z",
     "start_time": "2021-11-22T22:29:31.220318Z"
    }
   },
   "outputs": [],
   "source": [
    "px.violin(df2.explode())"
   ]
  },
  {
   "cell_type": "markdown",
   "metadata": {},
   "source": [
    "#### Distribution across all cell lines"
   ]
  },
  {
   "cell_type": "code",
   "execution_count": null,
   "metadata": {
    "ExecuteTime": {
     "end_time": "2021-11-22T22:29:33.558360Z",
     "start_time": "2021-11-22T22:29:33.556165Z"
    }
   },
   "outputs": [],
   "source": [
    "all_values = []"
   ]
  },
  {
   "cell_type": "code",
   "execution_count": null,
   "metadata": {
    "ExecuteTime": {
     "end_time": "2021-11-22T22:29:34.122964Z",
     "start_time": "2021-11-22T22:29:33.916407Z"
    }
   },
   "outputs": [],
   "source": [
    "for each in df.index:\n",
    "    temp = pd.Series(df.loc[each].explode())\n",
    "    #     print(temp)\n",
    "    all_values.append(temp)\n",
    "#     print(all_values)"
   ]
  },
  {
   "cell_type": "code",
   "execution_count": null,
   "metadata": {
    "ExecuteTime": {
     "end_time": "2021-11-22T22:29:34.379356Z",
     "start_time": "2021-11-22T22:29:34.324492Z"
    }
   },
   "outputs": [],
   "source": [
    "flat_list = [item for sublist in all_values for item in sublist]"
   ]
  },
  {
   "cell_type": "code",
   "execution_count": null,
   "metadata": {
    "ExecuteTime": {
     "end_time": "2021-11-22T22:29:34.917869Z",
     "start_time": "2021-11-22T22:29:34.852600Z"
    }
   },
   "outputs": [],
   "source": [
    "flat_series = pd.Series(flat_list)"
   ]
  },
  {
   "cell_type": "code",
   "execution_count": null,
   "metadata": {
    "ExecuteTime": {
     "end_time": "2021-11-22T22:29:35.476226Z",
     "start_time": "2021-11-22T22:29:35.468416Z"
    }
   },
   "outputs": [],
   "source": [
    "flat_series.value_counts()"
   ]
  },
  {
   "cell_type": "code",
   "execution_count": null,
   "metadata": {
    "ExecuteTime": {
     "end_time": "2021-11-22T22:29:41.010322Z",
     "start_time": "2021-11-22T22:29:36.164447Z"
    }
   },
   "outputs": [],
   "source": [
    "px.violin(flat_series)"
   ]
  },
  {
   "cell_type": "markdown",
   "metadata": {},
   "source": [
    "### Identify large differences"
   ]
  },
  {
   "cell_type": "code",
   "execution_count": null,
   "metadata": {
    "ExecuteTime": {
     "end_time": "2021-11-22T22:29:56.160256Z",
     "start_time": "2021-11-22T22:29:56.156666Z"
    }
   },
   "outputs": [],
   "source": [
    "def find_big_diffs(df, min_diff: float):\n",
    "    out = {}\n",
    "    for each in df.columns:\n",
    "        #     print(each)\n",
    "        mean = to_1D(df[each].dropna()).mean()\n",
    "        mode = to_1D(df[each].dropna()).mode()\n",
    "        #     print(mode)\n",
    "        if not mode.empty:\n",
    "            #         print(f\"Mean: {mean}, mode: {mode}\")\n",
    "            diff = abs(mean - mode.values[0])\n",
    "            if diff > min_diff:\n",
    "                out[each] = diff\n",
    "    #                 print(f\"Position: {each}, diff: {diff}\")\n",
    "    #                 print(out)\n",
    "    if out:\n",
    "        return out"
   ]
  },
  {
   "cell_type": "code",
   "execution_count": null,
   "metadata": {
    "ExecuteTime": {
     "end_time": "2021-11-22T22:29:57.007104Z",
     "start_time": "2021-11-22T22:29:56.724438Z"
    },
    "scrolled": true
   },
   "outputs": [],
   "source": [
    "big_ones = find_big_diffs(df, 0.1)\n",
    "big_ones"
   ]
  },
  {
   "cell_type": "code",
   "execution_count": null,
   "metadata": {
    "ExecuteTime": {
     "end_time": "2021-11-22T22:30:02.240869Z",
     "start_time": "2021-11-22T22:30:02.236801Z"
    }
   },
   "outputs": [],
   "source": [
    "big_ones"
   ]
  },
  {
   "cell_type": "code",
   "execution_count": null,
   "metadata": {
    "ExecuteTime": {
     "end_time": "2021-11-25T15:31:03.543073Z",
     "start_time": "2021-11-25T15:31:03.540143Z"
    }
   },
   "outputs": [],
   "source": [
    "ad_big_diffs.shape"
   ]
  },
  {
   "cell_type": "code",
   "execution_count": null,
   "metadata": {
    "ExecuteTime": {
     "end_time": "2021-11-25T15:31:04.809992Z",
     "start_time": "2021-11-25T15:31:04.725654Z"
    }
   },
   "outputs": [],
   "source": [
    "import plotly.express as px\n",
    "\n",
    "fig = px.bar(ad_big_diffs, template=\"seaborn\")\n",
    "fig.update_layout(\n",
    "    xaxis_type=\"linear\",\n",
    "    showlegend=False,\n",
    "    title=\"TERT Dataset Significant Methylation Differences\",\n",
    "    barmode=\"overlay\",\n",
    ")\n",
    "fig.update_xaxes(\n",
    "    tickformat=\"r\", tickangle=45, nticks=40, title=\"Position\", range=[1292981, 1295979]\n",
    ")\n",
    "fig.update_yaxes(title=\"# of significant differences\")\n",
    "fig.update_traces(width=50)\n",
    "fig.show()"
   ]
  },
  {
   "cell_type": "code",
   "execution_count": null,
   "metadata": {
    "ExecuteTime": {
     "end_time": "2021-11-25T15:31:11.912544Z",
     "start_time": "2021-11-25T15:31:11.909362Z"
    }
   },
   "outputs": [],
   "source": [
    "ad_big_diffs.values.flatten()"
   ]
  },
  {
   "cell_type": "code",
   "execution_count": null,
   "metadata": {
    "ExecuteTime": {
     "end_time": "2021-11-26T23:40:35.098730Z",
     "start_time": "2021-11-26T23:40:35.096431Z"
    }
   },
   "outputs": [],
   "source": [
    "import plotly.graph_objects as go"
   ]
  },
  {
   "cell_type": "code",
   "execution_count": null,
   "metadata": {
    "ExecuteTime": {
     "end_time": "2021-11-25T15:31:12.679291Z",
     "start_time": "2021-11-25T15:31:12.653582Z"
    },
    "scrolled": false
   },
   "outputs": [],
   "source": [
    "fig = go.Figure()\n",
    "fig.add_trace(go.Bar(x=ad_big_diffs.index, y=ad_big_diffs.values.flatten()))\n",
    "fig.update_layout(\n",
    "    xaxis_type=\"linear\",\n",
    "    showlegend=False,\n",
    "    title=\"Significant Methylation Differences\",\n",
    "#     barmode=\"overlay\",\n",
    "    template=\"seaborn\"\n",
    ")\n",
    "fig.update_xaxes(\n",
    "    tickformat=\"r\", tickangle=45, nticks=40, title=\"Position\", range=[int(ad_big_diffs.index.min()), int(ad_big_diffs.index.max())],\n",
    ")\n",
    "fig.update_yaxes(title=\"# of significant differences\")\n",
    "fig.update_traces(width=50)\n",
    "fig.show()"
   ]
  }
 ],
 "metadata": {
  "hide_input": false,
  "jupytext": {
   "formats": "ipynb,md"
  },
  "kernelspec": {
   "display_name": "Python 3 (ipykernel)",
   "language": "python",
   "name": "python3"
  },
  "language_info": {
   "codemirror_mode": {
    "name": "ipython",
    "version": 3
   },
   "file_extension": ".py",
   "mimetype": "text/x-python",
   "name": "python",
   "nbconvert_exporter": "python",
   "pygments_lexer": "ipython3",
   "version": "3.7.6"
  },
  "toc": {
   "base_numbering": 1,
   "nav_menu": {},
   "number_sections": true,
   "sideBar": true,
   "skip_h1_title": false,
   "title_cell": "Table of Contents",
   "title_sidebar": "Contents",
   "toc_cell": false,
   "toc_position": {},
   "toc_section_display": true,
   "toc_window_display": false
  }
 },
 "nbformat": 4,
 "nbformat_minor": 4
}
