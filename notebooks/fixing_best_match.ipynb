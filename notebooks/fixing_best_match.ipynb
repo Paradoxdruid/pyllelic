{
 "cells": [
  {
   "cell_type": "markdown",
   "metadata": {},
   "source": [
    "# Testing Find_Best_Dataset"
   ]
  },
  {
   "cell_type": "markdown",
   "metadata": {},
   "source": [
    "This notebook should allow the testing of improvements to the `_find_best_dataset` function.  Make local changes to the function in this notebook, add more `TestPair`s of sequences (good, bad, mismatched, etc), and run the tests to see if the returned alignment is actually the best alignment."
   ]
  },
  {
   "cell_type": "markdown",
   "metadata": {},
   "source": [
    "## Imports and setup"
   ]
  },
  {
   "cell_type": "code",
   "execution_count": 1,
   "metadata": {},
   "outputs": [],
   "source": [
    "# Allow import of module from directory above\n",
    "import sys\n",
    "sys.path.append('..')\n",
    "from pyllelic import quma\n",
    "\n",
    "# Other imports\n",
    "from typing import Tuple, NamedTuple"
   ]
  },
  {
   "cell_type": "code",
   "execution_count": 2,
   "metadata": {},
   "outputs": [],
   "source": [
    "# Initialize dummy object to gain access to class functions\n",
    "quma_obj = quma.Quma(\">name\\nGTGCTGTCGTC\\n\", \">query\\nGTGTCTGTGCCACACA\\n\")"
   ]
  },
  {
   "cell_type": "code",
   "execution_count": 3,
   "metadata": {},
   "outputs": [],
   "source": [
    "class TestPair(NamedTuple):  # Create named tuple for holding sequences to test in pairs\n",
    "    gseq: str\n",
    "    qseq: str"
   ]
  },
  {
   "cell_type": "markdown",
   "metadata": {},
   "source": [
    "## Function to change and test"
   ]
  },
  {
   "cell_type": "code",
   "execution_count": 4,
   "metadata": {},
   "outputs": [],
   "source": [
    "# TODO: Method to change/fix\n",
    "def _find_best_dataset(ffres: quma.Result, frres: quma.Result) -> Tuple[quma.Result, int]:\n",
    "        \"\"\"Helper to find best data returned.\n",
    "\n",
    "        Args:\n",
    "            ffres (Result): quma result from forward alignment\n",
    "            frres (Result): quma result from reverse alignment\n",
    "\n",
    "        Returns:\n",
    "            Tuple[Result, int]: best quma result and direction\n",
    "        \"\"\"\n",
    "\n",
    "        # Find best dataset: FIXME\n",
    "\n",
    "        fres: quma.Result\n",
    "        fdir: int\n",
    "        if ffres.aliLen > frres.aliLen:\n",
    "            fres = ffres\n",
    "            fdir = 1\n",
    "        else:\n",
    "            fres = frres\n",
    "            fdir = -1\n",
    "        # print(f\"Forward:\\n{ffres}\\n\\nRevese:\\n{frres}\\n\")\n",
    "        # if ffres[\"aliMis\"] > frres[\"aliMis\"]:\n",
    "        #     print(\"Cond 1\")\n",
    "        #     fres = frres\n",
    "        #     fdir = -1\n",
    "        # elif ffres[\"aliMis\"] < frres[\"aliMis\"]:\n",
    "        #     print(\"Cond 2\")\n",
    "        #     fres = ffres\n",
    "        #     fdir = 1\n",
    "        # elif ffres[\"perc\"] > frres[\"perc\"]:\n",
    "        #     print(\"Cond 3\")\n",
    "        #     fres = ffres\n",
    "        #     fdir = 1\n",
    "        # elif ffres[\"perc\"] < frres[\"perc\"]:\n",
    "        #     print(\"Cond 4\")\n",
    "        #     fres = frres\n",
    "        #     fdir = -1\n",
    "        # elif ffres[\"unconv\"] > frres[\"unconv\"]:\n",
    "        #     print(\"Cond 5\")\n",
    "        #     fres = frres\n",
    "        #     fdir = -1\n",
    "        # elif ffres[\"unconv\"] < frres[\"unconv\"]:\n",
    "        #     print(\"Cond 6\")\n",
    "        #     fres = ffres\n",
    "        #     fdir = 1\n",
    "        # elif ffres[\"pconv\"] < frres[\"pconv\"]:\n",
    "        #     print(\"Cond 7\")\n",
    "        #     fres = frres\n",
    "        #     fdir = -1\n",
    "        # elif ffres[\"pconv\"] > frres[\"pconv\"]:\n",
    "        #     print(\"Cond 8\")\n",
    "        #     fres = ffres\n",
    "        #     fdir = 1\n",
    "        # else:\n",
    "        #     print(\"Cond 9\")\n",
    "        #     fres = ffres\n",
    "        #     fdir = 1\n",
    "\n",
    "        # print(f\"fres: {fres},\\nfdir: {fdir}\")\n",
    "        return fres, fdir\n"
   ]
  },
  {
   "cell_type": "markdown",
   "metadata": {},
   "source": [
    "## Test Data"
   ]
  },
  {
   "cell_type": "code",
   "execution_count": 5,
   "metadata": {},
   "outputs": [],
   "source": [
    "# TODO: Extend with a variety of tests with various mismatch conditions, etc\n",
    "\n",
    "tests = {\n",
    "    \"good-fwd\": TestPair(gseq=\"GTGCTGTCGTC\", qseq=\"GTGTCTGTGCCACACA\"),\n",
    "    \"good-rev\": TestPair(gseq=\"GTGCTGTCGTC\", qseq=\"TGTGTGGCACAGACAC\"),\n",
    "    \"good-fwd-converted\": TestPair(gseq=\"GCGCGCGTGCTGTCGTC\", qseq=\"GCGCGTGTGTCTGTGCCACACA\"),\n",
    "}"
   ]
  },
  {
   "cell_type": "markdown",
   "metadata": {},
   "source": [
    "## Function to perform test of modified _find_best_dataset function"
   ]
  },
  {
   "cell_type": "code",
   "execution_count": 6,
   "metadata": {},
   "outputs": [],
   "source": [
    "def test_sequence_pair(g_sequence, q_sequence, quma_obj):\n",
    "    qfilepF = quma_obj._fasta_make(q_sequence, \"queryF\")\n",
    "    qfilepR = quma_obj._fasta_make(quma_obj._rev_comp(q_sequence), \"queryR\")\n",
    "    gfilepF = quma_obj._fasta_make(g_sequence, \"genomeF\")\n",
    "\n",
    "    fwd_result = quma_obj._align_seq_and_generate_stats(qfilepF, gfilepF)\n",
    "    rev_result = quma_obj._align_seq_and_generate_stats(qfilepR, gfilepF)\n",
    "\n",
    "    # Use local _find_best_dataset from above, not quma_obj method\n",
    "    result, final_direction = _find_best_dataset(fwd_result, rev_result)\n",
    "\n",
    "    if final_direction == 1:\n",
    "        return f\"Forward is best\\n{repr(result)}\"\n",
    "    return f\"Reverse is best\\n{repr(result)}\""
   ]
  },
  {
   "cell_type": "markdown",
   "metadata": {},
   "source": [
    "## Run Tests"
   ]
  },
  {
   "cell_type": "code",
   "execution_count": 7,
   "metadata": {},
   "outputs": [
    {
     "name": "stdout",
     "output_type": "stream",
     "text": [
      "Testing: good-fwd\n",
      "Forward is best\n",
      "Result(qAli='GTG-CTGTCGTC', gAli='GTGTCTGT-GCC', val='-', perc=83.3, pconv=0, gap=1, menum=0, unconv=0, conv=0, match=10, aliMis=2, aliLen=12)\n",
      "Testing: good-rev\n",
      "Reverse is best\n",
      "Result(qAli='GTG-CTGTCGTC', gAli='GTGTCTGT-GCC', val='-', perc=83.3, pconv=0, gap=1, menum=0, unconv=0, conv=0, match=10, aliMis=2, aliLen=12)\n",
      "Testing: good-fwd-converted\n",
      "Forward is best\n",
      "Result(qAli='GCGCGCGTG-CTGTCGTC', gAli='GCGCGTGTGTCTGT-GCC', val='11', perc=83.3, pconv=100.0, gap=1, menum=2, unconv=0, conv=2, match=15, aliMis=3, aliLen=18)\n"
     ]
    }
   ],
   "source": [
    "for k, v in tests.items():\n",
    "    print(f\"Testing: {k}\")\n",
    "    print(test_sequence_pair(v.gseq, v.qseq, quma_obj))"
   ]
  },
  {
   "cell_type": "code",
   "execution_count": null,
   "metadata": {},
   "outputs": [],
   "source": []
  }
 ],
 "metadata": {
  "interpreter": {
   "hash": "e78778451c7b2396497e141b211211f41052d8ea57a416e99a69fb068340a3a3"
  },
  "kernelspec": {
   "display_name": "Python 3.9.7 64-bit ('allelic': conda)",
   "language": "python",
   "name": "python3"
  },
  "language_info": {
   "codemirror_mode": {
    "name": "ipython",
    "version": 3
   },
   "file_extension": ".py",
   "mimetype": "text/x-python",
   "name": "python",
   "nbconvert_exporter": "python",
   "pygments_lexer": "ipython3",
   "version": "3.9.7"
  },
  "orig_nbformat": 4
 },
 "nbformat": 4,
 "nbformat_minor": 2
}
