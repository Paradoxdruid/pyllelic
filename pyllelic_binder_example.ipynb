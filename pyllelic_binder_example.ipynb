{
 "cells": [
  {
   "cell_type": "markdown",
   "metadata": {},
   "source": [
    "# Example Pyllelic Use-Case Notebook\n",
    "\n",
    "<img src=\"https://github.com/Paradoxdruid/pyllelic/blob/master/assets/pyllelic_logo.png?raw=true\" alt=\"pyllelic logo\" width=\"100\"/>"
   ]
  },
  {
   "cell_type": "markdown",
   "metadata": {},
   "source": [
    "## Background"
   ]
  },
  {
   "cell_type": "markdown",
   "metadata": {},
   "source": [
    "This notebook illustrates the import and use of `pyllelic` in a `mybinder.org` containerized environment.\n",
    "\n",
    "Source code: <https://github.com/Paradoxdruid/pyllelic>\n",
    "\n",
    "Documentation: <https://paradoxdruid.github.io/pyllelic/>"
   ]
  },
  {
   "cell_type": "markdown",
   "metadata": {},
   "source": [
    "## Set-up"
   ]
  },
  {
   "cell_type": "code",
   "execution_count": null,
   "metadata": {
    "ExecuteTime": {
     "end_time": "2021-11-26T23:32:56.003028Z",
     "start_time": "2021-11-26T23:32:55.264994Z"
    }
   },
   "outputs": [],
   "source": [
    "from pyllelic import pyllelic"
   ]
  },
  {
   "cell_type": "code",
   "execution_count": null,
   "metadata": {
    "ExecuteTime": {
     "end_time": "2021-11-26T23:32:56.802500Z",
     "start_time": "2021-11-26T23:32:56.799648Z"
    }
   },
   "outputs": [],
   "source": [
    "config = pyllelic.configure(\n",
    "    base_path=\"/home/jovyan/assets/\",  # For MyBinder.org\n",
    "    prom_file=\"tert_genome.txt\",\n",
    "    prom_start=\"1293200\",\n",
    "    prom_end=\"1296000\",\n",
    "    chrom=\"5\",\n",
    "    offset=1293000,\n",
    ")"
   ]
  },
  {
   "cell_type": "markdown",
   "metadata": {},
   "source": [
    "## Main Parsing Functions\n",
    "\n",
    "### Find files to analyze"
   ]
  },
  {
   "cell_type": "code",
   "execution_count": null,
   "metadata": {
    "ExecuteTime": {
     "end_time": "2021-11-26T19:53:53.605627Z",
     "start_time": "2021-11-26T19:53:53.596979Z"
    }
   },
   "outputs": [],
   "source": [
    "files_set = pyllelic.make_list_of_bam_files(config)"
   ]
  },
  {
   "cell_type": "code",
   "execution_count": null,
   "metadata": {
    "ExecuteTime": {
     "end_time": "2021-11-26T19:53:55.544362Z",
     "start_time": "2021-11-26T19:53:55.542243Z"
    }
   },
   "outputs": [],
   "source": [
    "files_set # uncomment for debugging"
   ]
  },
  {
   "cell_type": "markdown",
   "metadata": {},
   "source": [
    "### Perform full methylation analysis and generate data object\n",
    "\n",
    "**Warning**: This step is processor and time intensive and will perform all processing and analysis of the bam file data."
   ]
  },
  {
   "cell_type": "code",
   "execution_count": null,
   "metadata": {
    "ExecuteTime": {
     "end_time": "2021-11-26T19:54:58.688204Z",
     "start_time": "2021-11-26T19:54:52.613625Z"
    }
   },
   "outputs": [],
   "source": [
    "data = pyllelic.GenomicPositionData(config=config, files_set=files_set)"
   ]
  },
  {
   "cell_type": "markdown",
   "metadata": {},
   "source": [
    "### Check main data outcomes"
   ]
  },
  {
   "cell_type": "code",
   "execution_count": null,
   "metadata": {
    "ExecuteTime": {
     "end_time": "2021-11-26T19:55:00.741172Z",
     "start_time": "2021-11-26T19:55:00.734647Z"
    }
   },
   "outputs": [],
   "source": [
    "\", \".join(data.positions)"
   ]
  },
  {
   "cell_type": "code",
   "execution_count": null,
   "metadata": {
    "ExecuteTime": {
     "end_time": "2021-11-26T19:55:01.789200Z",
     "start_time": "2021-11-26T19:55:01.774152Z"
    }
   },
   "outputs": [],
   "source": [
    "data.means.head(1)"
   ]
  },
  {
   "cell_type": "code",
   "execution_count": null,
   "metadata": {
    "ExecuteTime": {
     "end_time": "2021-11-25T21:24:20.909527Z",
     "start_time": "2021-11-25T21:24:20.895572Z"
    }
   },
   "outputs": [],
   "source": [
    "data.modes.head(1)"
   ]
  },
  {
   "cell_type": "code",
   "execution_count": null,
   "metadata": {
    "ExecuteTime": {
     "end_time": "2021-11-25T21:24:21.269848Z",
     "start_time": "2021-11-25T21:24:21.255800Z"
    }
   },
   "outputs": [],
   "source": [
    "data.diffs.head(1)"
   ]
  },
  {
   "cell_type": "markdown",
   "metadata": {},
   "source": [
    "## Data Analysis\n",
    "\n",
    "### View raw data of methylation percentage per read"
   ]
  },
  {
   "cell_type": "code",
   "execution_count": null,
   "metadata": {
    "ExecuteTime": {
     "end_time": "2021-11-22T22:28:25.014860Z",
     "start_time": "2021-11-22T22:28:25.012468Z"
    }
   },
   "outputs": [],
   "source": [
    "data.individual_data.head(1)"
   ]
  },
  {
   "cell_type": "markdown",
   "metadata": {},
   "source": [
    "### Statistical Tests for Normality"
   ]
  },
  {
   "cell_type": "code",
   "execution_count": null,
   "metadata": {
    "ExecuteTime": {
     "end_time": "2021-11-25T15:30:56.827423Z",
     "start_time": "2021-11-25T15:30:56.805431Z"
    }
   },
   "outputs": [],
   "source": [
    "summ = data.summarize_allelic_data()"
   ]
  },
  {
   "cell_type": "code",
   "execution_count": null,
   "metadata": {
    "ExecuteTime": {
     "end_time": "2021-11-25T15:30:57.563771Z",
     "start_time": "2021-11-25T15:30:57.556554Z"
    }
   },
   "outputs": [],
   "source": [
    "summ.head()"
   ]
  },
  {
   "cell_type": "markdown",
   "metadata": {},
   "source": [
    "### Raw quma results"
   ]
  },
  {
   "cell_type": "code",
   "execution_count": null,
   "metadata": {
    "ExecuteTime": {
     "end_time": "2021-11-22T19:57:38.762890Z",
     "start_time": "2021-11-22T19:57:38.748566Z"
    }
   },
   "outputs": [],
   "source": [
    "data.quma_results[data.means.index[0]].values.head()"
   ]
  },
  {
   "cell_type": "markdown",
   "metadata": {},
   "source": [
    "## Visualizing Data"
   ]
  },
  {
   "cell_type": "markdown",
   "metadata": {},
   "source": [
    "### Heatmap of mean methylation values"
   ]
  },
  {
   "cell_type": "code",
   "execution_count": null,
   "metadata": {},
   "outputs": [],
   "source": [
    "data.heatmap(min_values=1, width=600, height=200, data_type=\"means\")"
   ]
  },
  {
   "cell_type": "markdown",
   "metadata": {},
   "source": [
    "### Histograms of reads at a cell line and genomic position"
   ]
  },
  {
   "cell_type": "code",
   "execution_count": null,
   "metadata": {
    "ExecuteTime": {
     "end_time": "2021-11-25T15:30:46.102998Z",
     "start_time": "2021-11-25T15:30:46.075187Z"
    },
    "scrolled": false
   },
   "outputs": [],
   "source": [
    "CELL = data.means.index[1]\n",
    "POS = data.means.columns[5]\n",
    "data.histogram(CELL, POS)"
   ]
  },
  {
   "cell_type": "markdown",
   "metadata": {},
   "source": [
    "### Bar chart of significant methylation differences"
   ]
  },
  {
   "cell_type": "code",
   "execution_count": null,
   "metadata": {},
   "outputs": [],
   "source": [
    "data.sig_methylation_differences()"
   ]
  }
 ],
 "metadata": {
  "hide_input": false,
  "jupytext": {
   "formats": "ipynb,md"
  },
  "kernelspec": {
   "display_name": "Python 3 (ipykernel)",
   "language": "python",
   "name": "python3"
  },
  "language_info": {
   "codemirror_mode": {
    "name": "ipython",
    "version": 3
   },
   "file_extension": ".py",
   "mimetype": "text/x-python",
   "name": "python",
   "nbconvert_exporter": "python",
   "pygments_lexer": "ipython3",
   "version": "3.7.6"
  },
  "toc": {
   "base_numbering": 1,
   "nav_menu": {},
   "number_sections": true,
   "sideBar": true,
   "skip_h1_title": false,
   "title_cell": "Table of Contents",
   "title_sidebar": "Contents",
   "toc_cell": false,
   "toc_position": {},
   "toc_section_display": true,
   "toc_window_display": false
  }
 },
 "nbformat": 4,
 "nbformat_minor": 4
}
